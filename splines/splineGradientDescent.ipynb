{
 "cells": [
  {
   "cell_type": "code",
   "execution_count": null,
   "metadata": {},
   "outputs": [],
   "source": [
    "import math\n",
    "import matplotlib.pyplot as plt\n",
    "import scipy\n",
    "import time"
   ]
  },
  {
   "cell_type": "code",
   "execution_count": null,
   "metadata": {},
   "outputs": [],
   "source": [
    "%load_ext autoreload\n",
    "%autoreload 2\n",
    "import sys\n",
    "import os\n",
    "#sys.path.append(os.path.join(os.getcwd(), '..'))\n",
    "sys.path.append(os.path.join(os.getcwd(), '..'))\n",
    "from findOptShadingByGradDescent import *"
   ]
  },
  {
   "cell_type": "code",
   "execution_count": null,
   "metadata": {},
   "outputs": [],
   "source": [
    "def this_d_oppo(x,K=3): return K*x**(K-1)\n",
    "def this_cdf_oppo(x,K=3): return x**K\n",
    "def unif_pdf(x): return 1.0\n",
    "def unif_cdf(x): return x"
   ]
  },
  {
   "cell_type": "code",
   "execution_count": null,
   "metadata": {},
   "outputs": [],
   "source": [
    "def max_unif_den(x,K=1):\n",
    "    return K*x**(K-1)\n",
    "\n",
    "def max_unif_cdf(x,K=1):\n",
    "    return x**K\n",
    "\n",
    "these_knots = [.25,.50,.75,1.0]\n",
    "these_coeffs = [.3,.4,.1,.1,.1,.1]\n",
    "this_x_0 = .6"
   ]
  },
  {
   "cell_type": "code",
   "execution_count": null,
   "metadata": {},
   "outputs": [],
   "source": [
    "these_knots = np.linspace(.01,.99,50)\n",
    "these_coeffs = np.zeros(len(these_knots)+2)\n",
    "these_coeffs[0]=0\n",
    "these_coeffs[1]=0.7\n",
    "this_x_0 = .5\n",
    "num_oppo = 1\n",
    "num_steps = 300\n",
    "grad_step = 10**(-1)\n",
    "#I changed the code slightly there; the reward vector in the lp is now step_size*derivative_direction\n",
    "start = time.time()\n",
    "test, reserve_value_sequence, all_coeffs, reserve_prices, revenues=perform_multiple_gradient_ascent_steps(density_opponents= lambda x: max_unif_den(x,num_oppo), \n",
    "                                            cdf_opponents = lambda x: max_unif_cdf(x,num_oppo),\n",
    "                                                 knots_bidder = these_knots,\n",
    "                                                 coeffs_bidder_shading = these_coeffs,\n",
    "                                                 density_bidder = max_unif_den, \n",
    "                                                cdf_bidder = max_unif_cdf,\n",
    "                                                 x_0 = this_x_0, \n",
    "                                                assume_v_val_inc=False,\n",
    "                                        lower_bound=0.0, upper_bound=1.0,\n",
    "                                        gradient_step_size=grad_step,\n",
    "                                        abs_max_size_move=1.0,\n",
    "                                        number_steps=num_steps,\n",
    "                                        less_than_id_constraint=False,\n",
    "                                           monotonicity_constraint=False,\n",
    "                                           brute_force_comp_res_val=True,\n",
    "                                           test_vals=[0.0,1.0],\n",
    "                                           my_tol = 10**(-7))\n",
    "elapsed = time.time() - start\n",
    "print(\"Elapsed time\", elapsed)"
   ]
  },
  {
   "cell_type": "code",
   "execution_count": null,
   "metadata": {
    "scrolled": true
   },
   "outputs": [],
   "source": [
    "plt.plot(np.asarray(reserve_value_sequence[:]))\n",
    "plt.xlabel(\"number of steps\")\n",
    "plt.ylabel(\"reserve value\")\n",
    "# plt.title(\"Shading function obtained by gradient descent \\n\n",
    "# Spline basis, 2 opponents\")\n",
    "plt.savefig('reserve_value.pdf')\n",
    "plt.show()"
   ]
  },
  {
   "cell_type": "code",
   "execution_count": null,
   "metadata": {},
   "outputs": [],
   "source": [
    "plt.plot(np.asarray(reserve_prices[:]))\n",
    "plt.xlabel(\"index\")\n",
    "plt.ylabel(\"reserve price\")\n",
    "# plt.title(\"Shading function obtained by gradient descent \\n\n",
    "# Spline basis, 2 opponents\")\n",
    "plt.savefig('reserve_price.pdf')\n",
    "plt.show()"
   ]
  },
  {
   "cell_type": "code",
   "execution_count": null,
   "metadata": {},
   "outputs": [],
   "source": [
    "plt.plot(np.asarray(revenues[:]))\n",
    "plt.xlabel(\"index\")\n",
    "plt.ylabel(\"revenue player\")\n",
    "plt.title(\"Evolution of bidder revenue \\n Spline basis, \" + str(num_oppo) + \" opponents\")\n",
    "plt.savefig('revenue_bidder.pdf')\n",
    "plt.show()"
   ]
  },
  {
   "cell_type": "code",
   "execution_count": null,
   "metadata": {},
   "outputs": [],
   "source": []
  },
  {
   "cell_type": "code",
   "execution_count": null,
   "metadata": {},
   "outputs": [],
   "source": [
    "key_index = np.argmax(np.asarray(revenues[:]))\n",
    "key_coeffs = all_coeffs[key_index]\n",
    "test_spline = compute_bidder_shading(these_knots,key_coeffs)\n",
    "\n",
    "test_x=np.linspace(0.0,1.0,1001)\n",
    "value_func = np.ones(len(test_x))\n",
    "for index, my_x in enumerate(test_x):\n",
    "    value_func[index] = test_spline(my_x)\n",
    "\n",
    "plt.plot(test_x,value_func)\n",
    "plt.plot(test_x,test_x,color='r')\n",
    "plt.xlabel(\"Value\")\n",
    "plt.ylabel(\"Bid\")\n",
    "plt.title(\"Strategy obtained by gradient descent \\n Spline basis, \" + str(num_oppo) + \"opponents\")\n",
    "plt.savefig(\"Shading_function.pdf\")\n",
    "plt.show()"
   ]
  },
  {
   "cell_type": "code",
   "execution_count": null,
   "metadata": {
    "scrolled": true
   },
   "outputs": [],
   "source": [
    "test_v_value = compute_v_value_after_shading(these_knots, key_coeffs,max_unif_den, max_unif_cdf)\n",
    "test_x=np.linspace(0.0,1.0,1001)\n",
    "value_func = np.ones(len(test_x))\n",
    "for index, my_x in enumerate(test_x):\n",
    "    value_func[index] = test_v_value(my_x)\n",
    "\n",
    "plt.plot(test_x,value_func)\n",
    "plt.xlabel(\"value\")\n",
    "plt.ylabel(\"virtual value function\")\n",
    "plt.axhline(y=0.0, color='r', linestyle='-')\n",
    "plt.title(\"Virtual value of Shading function obtained by gradient descent \\n Spline basis, \" + str(num_oppo) + \" opponents\")\n",
    "plt.savefig(\"virtual_value_spline.pdf\")\n",
    "plt.show()"
   ]
  },
  {
   "cell_type": "markdown",
   "metadata": {},
   "source": [
    "### Going further down the descent path"
   ]
  },
  {
   "cell_type": "code",
   "execution_count": null,
   "metadata": {},
   "outputs": [],
   "source": [
    "these_knots = np.linspace(.1,.9,10)\n",
    "key_coeffs = all_coeffs[key_index]\n",
    "these_coeffs = key_coeffs\n",
    "# these_coeffs[0]=0\n",
    "# these_coeffs[1]=0.7\n",
    "this_x_0 = reserve_value_sequence[key_index] \n",
    "num_oppo = 1\n",
    "num_steps = 500\n",
    "grad_step = 10**(-2)\n",
    "#I changed the code slightly there; the reward vector in the lp is now step_size*derivative_direction\n",
    "start = time.time()\n",
    "test_2, reserve_value_sequence_2, all_coeffs_2, reserve_prices_2, revenues_2=perform_multiple_gradient_ascent_steps(density_opponents= lambda x: max_unif_den(x,num_oppo), \n",
    "                                            cdf_opponents = lambda x: max_unif_cdf(x,num_oppo),\n",
    "                                                 knots_bidder = these_knots,\n",
    "                                                 coeffs_bidder_shading = these_coeffs,\n",
    "                                                 density_bidder = max_unif_den, \n",
    "                                                cdf_bidder = max_unif_cdf,\n",
    "                                                 x_0 = this_x_0, \n",
    "                                                assume_v_val_inc=False,\n",
    "                                        lower_bound=0.0, upper_bound=1.0,\n",
    "                                        gradient_step_size=grad_step,\n",
    "                                        abs_max_size_move=1.0,\n",
    "                                        number_steps=num_steps,\n",
    "                                        less_than_id_constraint=False,\n",
    "                                           monotonicity_constraint=False,\n",
    "                                           brute_force_comp_res_val=True,\n",
    "                                           test_vals=[0.0,1.0],\n",
    "                                           my_tol = 10**(-6))\n",
    "elapsed = time.time() - start\n",
    "print(\"Elapsed time\", elapsed)"
   ]
  },
  {
   "cell_type": "code",
   "execution_count": null,
   "metadata": {},
   "outputs": [],
   "source": []
  },
  {
   "cell_type": "code",
   "execution_count": null,
   "metadata": {},
   "outputs": [],
   "source": []
  },
  {
   "cell_type": "code",
   "execution_count": null,
   "metadata": {},
   "outputs": [],
   "source": [
    "plt.figure(figsize=(6,6))\n",
    "#key_index = np.argmax(np.asarray(revenues[:]))\n",
    "key_coeffs_2 = test_2\n",
    "test_spline_2 = compute_bidder_shading(these_knots,key_coeffs_2)\n",
    "\n",
    "test_x=np.linspace(0.0,1.0,1001)\n",
    "value_func = np.ones(len(test_x))\n",
    "for index, my_x in enumerate(test_x):\n",
    "    value_func[index] = test_spline(my_x)\n",
    "\n",
    "plt.plot(test_x,value_func)\n",
    "plt.plot(test_x,test_x,color='r')\n",
    "plt.xlabel(\"value\")\n",
    "plt.ylabel(\"shading function\")\n",
    "plt.title(\"Shading function obtained by gradient descent \\n Spline basis, \" + str(num_oppo) + \"opponents\")\n",
    "#plt.savefig('ShadingFunctionEndGradDescent.png')\n",
    "plt.show()"
   ]
  },
  {
   "cell_type": "code",
   "execution_count": null,
   "metadata": {},
   "outputs": [],
   "source": [
    "plt.figure(figsize=(6,6))\n",
    "test_v_value_2 = compute_v_value_after_shading(these_knots, key_coeffs_2,max_unif_den, max_unif_cdf)\n",
    "test_x=np.linspace(0.0,1.0,1001)\n",
    "value_func_2 = np.ones(len(test_x))\n",
    "for index, my_x in enumerate(test_x):\n",
    "    value_func_2[index] = test_v_value_2(my_x)\n",
    "\n",
    "plt.plot(test_x,value_func_2)\n",
    "plt.xlabel(\"value\")\n",
    "plt.ylabel(\"virtual value function\")\n",
    "plt.axhline(y=0.0, color='r', linestyle='-')\n",
    "plt.title(\"Virtual value of Shading function obtained by gradient descent \\n Spline basis, \" + str(num_oppo) + \" opponents\")\n",
    "#plt.savefig('VValueEndGradDescent.png')\n",
    "plt.show()"
   ]
  },
  {
   "cell_type": "code",
   "execution_count": null,
   "metadata": {},
   "outputs": [],
   "source": [
    "verif_reserve_value_2, revenue_seller_2 = compute_x_0_from_v_value_brute_force(test_v_value_2,\n",
    "                                         test_spline_2,\n",
    "                                         cdf_opponents = lambda x: max_unif_cdf(x,num_oppo),\n",
    "                                         density_bidder = max_unif_den,\n",
    "                                        test_vals=[0.0,1.0])"
   ]
  },
  {
   "cell_type": "code",
   "execution_count": null,
   "metadata": {},
   "outputs": [],
   "source": []
  },
  {
   "cell_type": "code",
   "execution_count": null,
   "metadata": {},
   "outputs": [],
   "source": [
    "verif_reserve_value_2"
   ]
  },
  {
   "cell_type": "code",
   "execution_count": null,
   "metadata": {},
   "outputs": [],
   "source": [
    "plt.figure(figsize=(6,6))\n",
    "grid_size = 51\n",
    "grid = np.linspace(0,1,grid_size)\n",
    "plt.plot(grid, revenue_seller_2)\n",
    "plt.xlabel(\"possible reserve values\")\n",
    "plt.ylabel(\"revenue seller\")\n",
    "plt.title(\"Revenue seller for various reserve values\")\n",
    "plt.savefig('RevSellerEndGradDescent.png')\n",
    "plt.show()"
   ]
  }
 ],
 "metadata": {
  "kernelspec": {
   "display_name": "Python 3",
   "language": "python",
   "name": "python3"
  },
  "language_info": {
   "codemirror_mode": {
    "name": "ipython",
    "version": 3
   },
   "file_extension": ".py",
   "mimetype": "text/x-python",
   "name": "python",
   "nbconvert_exporter": "python",
   "pygments_lexer": "ipython3",
   "version": "3.6.4"
  }
 },
 "nbformat": 4,
 "nbformat_minor": 2
}
