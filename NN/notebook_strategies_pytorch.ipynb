{
 "cells": [
  {
   "cell_type": "code",
   "execution_count": 2,
   "metadata": {},
   "outputs": [],
   "source": [
    "import bidder_strategy as learning\n",
    "import importlib\n",
    "import losses as losses\n",
    "import utils \n",
    "import torch\n",
    "import matplotlib.pyplot as plt\n",
    "importlib.reload(learning)\n",
    "importlib.reload(losses)\n",
    "importlib.reload(utils)\n",
    "import numpy as np\n",
    "import distributions"
   ]
  },
  {
   "cell_type": "markdown",
   "metadata": {},
   "source": [
    "## Define the distribution "
   ]
  },
  {
   "cell_type": "markdown",
   "metadata": {},
   "source": [
    "We have implemented two distributions so far but it is very easy to define a new one "
   ]
  },
  {
   "cell_type": "code",
   "execution_count": 3,
   "metadata": {},
   "outputs": [],
   "source": [
    "distrib = distributions.UniformDistrib()\n",
    "#distrib = distributions.ExponentialDistrib()"
   ]
  },
  {
   "cell_type": "markdown",
   "metadata": {},
   "source": [
    "## Learning to bid truthful when reserve price is fixed"
   ]
  },
  {
   "cell_type": "markdown",
   "metadata": {},
   "source": [
    "We start with a simple example to check that the network recover the truthful bidding when the reserve price is fixed"
   ]
  },
  {
   "cell_type": "code",
   "execution_count": null,
   "metadata": {},
   "outputs": [],
   "source": [
    "net = learning.Net_simple_neuron(init_a = 0.8)\n",
    "loss_net = losses.LossReserveFixedLazySecondPrice(0.5,distrib,nb_opponents=1)\n",
    "learning.main(net,loss_net,nb_steps=1500,size_batch=10000,lr = 0.01)"
   ]
  },
  {
   "cell_type": "markdown",
   "metadata": {},
   "source": [
    "## Learning optimal bidding strategies in lazy second price"
   ]
  },
  {
   "cell_type": "markdown",
   "metadata": {},
   "source": [
    "#### Learning linear/affine shading with one neuron"
   ]
  },
  {
   "cell_type": "markdown",
   "metadata": {},
   "source": [
    "Here we show how to learn an affine shading where the auction is a lazy second price auction with personalized reserve price"
   ]
  },
  {
   "cell_type": "code",
   "execution_count": null,
   "metadata": {
    "scrolled": false
   },
   "outputs": [],
   "source": [
    "net = learning.Net_simple_neuron(init_a = 1.0)\n",
    "loss_net = losses.LossMonopolyReserveLazySecondPrice(distrib)\n",
    "learning.main(net,loss_net,nb_steps=3000,size_batch=40000,lr = 0.001)"
   ]
  },
  {
   "cell_type": "markdown",
   "metadata": {},
   "source": [
    "#### Learning to bid in lazy second price auction with 200 neurons"
   ]
  },
  {
   "cell_type": "code",
   "execution_count": null,
   "metadata": {
    "scrolled": false
   },
   "outputs": [],
   "source": [
    "net = learning.Net_one_layer(size_layer = 200)\n",
    "loss_train = losses.LossMonopolyReserveLazySecondPrice(distrib,nb_opponents=1)\n",
    "learning.main(net,loss_train,nb_steps=1500,size_batch=40000,lr = 0.001)\n"
   ]
  },
  {
   "cell_type": "code",
   "execution_count": null,
   "metadata": {},
   "outputs": [],
   "source": [
    "loss_eval = losses.LossReserveFixedLazySecondPrice(0.0,distrib,nb_opponents=1)\n",
    "utils.sanity_check_second_price(net,loss_eval,1000000)\n"
   ]
  },
  {
   "cell_type": "code",
   "execution_count": null,
   "metadata": {
    "scrolled": false
   },
   "outputs": [],
   "source": [
    "nb_runs = 10\n",
    "size_batch_eval = 1000000\n",
    "nb_opponents = 1\n",
    "loss_train = losses.LossMonopolyReserveLazySecondPrice(distrib,nb_opponents=nb_opponents)\n",
    "loss_eval = losses.LossReserveFixedLazySecondPrice(0.0,distrib,nb_opponents=nb_opponents)\n",
    "perf_summary = utils.run_multiple_runs_second_price(nb_runs,size_batch_eval,loss_train,loss_eval,\n",
    "                    nb_steps_learning=3000,size_batch_learning=20000,lr = 0.001)\n",
    "perf_summary"
   ]
  },
  {
   "cell_type": "code",
   "execution_count": null,
   "metadata": {},
   "outputs": [],
   "source": [
    "nb_opponents_list = [1,2,3]\n",
    "nb_runs = 10\n",
    "size_batch_eval = 1000000\n",
    "for nb_opponents in nb_opponents_list:\n",
    "    loss_train = losses.LossMonopolyReserveLazySecondPrice(distrib,nb_opponents=nb_opponents)\n",
    "    loss_eval = losses.LossReserveFixedLazySecondPrice(0.0,distrib,nb_opponents=nb_opponents)\n",
    "    perf_summary = utils.run_multiple_runs_second_price(nb_runs,size_batch_eval,loss_train,loss_eval,\n",
    "                    nb_steps_learning=3000,size_batch_learning=20000,lr = 0.001)\n",
    "    print(f\"nb_opponents:{nb_opponents}\")\n",
    "    print(f\"perf_summary:{perf_summary}\")"
   ]
  },
  {
   "cell_type": "markdown",
   "metadata": {},
   "source": [
    "## Learning optimal bidding strategies in eager second price"
   ]
  },
  {
   "cell_type": "code",
   "execution_count": null,
   "metadata": {},
   "outputs": [],
   "source": [
    "net = learning.Net_one_layer()\n",
    "loss_net = losses.LossMonopolyReserveEagerSecondPrice(distrib,nb_opponents=3)\n",
    "learning.main(net,loss_net,nb_steps=4000,size_batch=60000,lr = 0.0001)"
   ]
  },
  {
   "cell_type": "code",
   "execution_count": null,
   "metadata": {},
   "outputs": [],
   "source": [
    "loss_eval = losses.LossReserveFixedEagerSecondPrice(0.0,distrib,nb_opponents=3)\n",
    "utils.sanity_check_second_price(net,loss_eval,1000000)"
   ]
  },
  {
   "cell_type": "code",
   "execution_count": null,
   "metadata": {},
   "outputs": [],
   "source": [
    "nb_runs = 10\n",
    "size_batch_eval = 1000000\n",
    "nb_opponents = 1\n",
    "loss_train = losses.LossMonopolyReserveEagerSecondPrice(distrib,nb_opponents=nb_opponents)\n",
    "loss_eval = losses.LossReserveFixedEagerSecondPrice(0.0,distrib,nb_opponents=nb_opponents)\n",
    "perf_summary = utils.run_multiple_runs_second_price(nb_runs,size_batch_eval,net,loss_train,loss_eval,\n",
    "                    nb_steps_learning=3000,size_batch_learning=20000,lr = 0.001)\n",
    "perf_summary"
   ]
  },
  {
   "cell_type": "code",
   "execution_count": null,
   "metadata": {},
   "outputs": [],
   "source": [
    "nb_opponents_list = [1,2,3]\n",
    "nb_runs = 10\n",
    "size_batch_eval = 1000000\n",
    "for nb_opponents in nb_opponents_list:\n",
    "    loss_train = losses.LossMonopolyReserveEagerSecondPrice(distrib,nb_opponents=nb_opponents)\n",
    "    loss_eval = losses.LossReserveFixedEagerSecondPrice(0.0,distrib,nb_opponents=nb_opponents)\n",
    "    perf_summary = utils.run_multiple_runs_second_price(nb_runs,size_batch_eval,loss_train,loss_eval,\n",
    "                    nb_steps_learning=3000,size_batch_learning=20000,lr = 0.0001)\n",
    "    print(f\"nb_opponents:{nb_opponents}\")\n",
    "    print(f\"perf_summary:{perf_summary}\")"
   ]
  },
  {
   "cell_type": "markdown",
   "metadata": {},
   "source": [
    "## learning myerson in one strategic"
   ]
  },
  {
   "cell_type": "code",
   "execution_count": null,
   "metadata": {},
   "outputs": [],
   "source": [
    "net = learning.Net_one_layer()\n",
    "loss_net = losses.lossMyersonAuction(distrib,nb_opponents=3)\n",
    "learning.main(net,loss_net,nb_steps=4000,size_batch=60000,lr = 0.0001)"
   ]
  },
  {
   "cell_type": "code",
   "execution_count": null,
   "metadata": {},
   "outputs": [],
   "source": [
    "nb_runs = 10\n",
    "loss_net = losses.lossMyersonAuction(distrib,nb_opponents=1)\n",
    "size_batch_eval = 1000000\n",
    "utils.run_multiple_runs_simple(nb_runs,loss_net,size_batch_eval,nb_steps_train=2000,size_batch_train=20000,lr = 0.0001)"
   ]
  },
  {
   "cell_type": "code",
   "execution_count": null,
   "metadata": {},
   "outputs": [],
   "source": [
    "nb_opponents_list = [1,2,3]\n",
    "nb_runs = 10\n",
    "size_batch_eval = 1000000\n",
    "for nb_opponents in nb_opponents_list:\n",
    "    loss_net = losses.lossMyersonAuction(distrib,nb_opponents=nb_opponents)\n",
    "    perf_summary = utils.run_multiple_runs_simple(nb_runs,loss_net,size_batch_eval,nb_steps_train=2000,size_batch_train=20000,lr = 0.0001)\n",
    "    print(f\"nb_opponents:{nb_opponents}\")\n",
    "    print(f\"perf_summary:{perf_summary}\")"
   ]
  },
  {
   "cell_type": "markdown",
   "metadata": {},
   "source": [
    "## Boosted second price based on affine fit to compute the reserve price and design the auction "
   ]
  },
  {
   "cell_type": "code",
   "execution_count": null,
   "metadata": {},
   "outputs": [],
   "source": [
    "net = learning.Net_one_layer()\n",
    "loss_net = losses.lossBoostedSecondPriceAffineFit(distrib,nb_opponents=1)\n",
    "learning.main(net,loss_net,nb_steps=1000,size_batch=10000,lr = 0.1)"
   ]
  },
  {
   "cell_type": "code",
   "execution_count": null,
   "metadata": {},
   "outputs": [],
   "source": [
    "nb_runs = 3\n",
    "loss_net = losses.lossBoostedSecondPriceAffineFit(distrib,nb_opponents=1)\n",
    "size_batch_eval = 1000000\n",
    "utils.run_multiple_runs_simple(nb_runs,loss_net,size_batch_eval,nb_steps_train=2000,size_batch_train=20000,lr = 0.0001)"
   ]
  },
  {
   "cell_type": "code",
   "execution_count": null,
   "metadata": {},
   "outputs": [],
   "source": [
    "nb_opponents_list = [1,2,3]\n",
    "nb_runs = 10\n",
    "size_batch_eval = 1000000\n",
    "for nb_opponents in nb_opponents_list:\n",
    "    loss_net = losses.lossBoostedSecondPriceAffineFit(distrib,nb_opponents=nb_opponents)\n",
    "    perf_summary = utils.run_multiple_runs_simple(nb_runs,loss_net,size_batch_eval,nb_steps_train=2000,size_batch_train=20000,lr = 0.0001)\n",
    "    print(f\"nb_opponents:{nb_opponents}\")\n",
    "    print(f\"perf_summary:{perf_summary}\")"
   ]
  },
  {
   "cell_type": "markdown",
   "metadata": {},
   "source": [
    "## Boosted Second Price auction based on linear fit (the reserve price is computed on the real virtual value)"
   ]
  },
  {
   "cell_type": "code",
   "execution_count": null,
   "metadata": {},
   "outputs": [],
   "source": [
    "net = learning.Net_one_layer()\n",
    "loss_net = losses.lossBoostedSecondPriceLinearFit(distrib,nb_opponents=1)\n",
    "learning.main(net,loss_net,nb_steps=1000,size_batch=10000,lr = 0.1)"
   ]
  }
 ],
 "metadata": {
  "kernelspec": {
   "display_name": "Python 3",
   "language": "python",
   "name": "python3"
  },
  "language_info": {
   "codemirror_mode": {
    "name": "ipython",
    "version": 3
   },
   "file_extension": ".py",
   "mimetype": "text/x-python",
   "name": "python",
   "nbconvert_exporter": "python",
   "pygments_lexer": "ipython3",
   "version": "3.6.4"
  }
 },
 "nbformat": 4,
 "nbformat_minor": 1
}
